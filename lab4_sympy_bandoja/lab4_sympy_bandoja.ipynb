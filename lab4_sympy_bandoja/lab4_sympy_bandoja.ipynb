{
  "cells": [
    {
      "cell_type": "markdown",
      "source": [
        "# Exploring Calculus with SymPy\n",
        "\n",
        "## Activity Instructions\n",
        "This activity is designed to help you explore how Python can be used to understand basic ideas in calculus — without needing to do any complex math.\n",
        "\n",
        "Use the Python code snippets provided to experiment and answer the questions."
      ],
      "metadata": {
        "id": "epXjlyn6ZAlm"
      },
      "id": "epXjlyn6ZAlm"
    },
    {
      "cell_type": "code",
      "source": [
        "from sympy import *"
      ],
      "metadata": {
        "id": "vZ0V7WGLXr9O"
      },
      "id": "vZ0V7WGLXr9O",
      "execution_count": 1,
      "outputs": []
    },
    {
      "cell_type": "markdown",
      "source": [
        "---\n",
        "## Playing with Symbols\n",
        "\n",
        "Try running this code:"
      ],
      "metadata": {
        "id": "RPFHhyHsYhGm"
      },
      "id": "RPFHhyHsYhGm"
    },
    {
      "cell_type": "code",
      "source": [
        "x = symbols('x')\n",
        "x + x"
      ],
      "metadata": {
        "id": "A92JlyDyYixm",
        "colab": {
          "base_uri": "https://localhost:8080/",
          "height": 38
        },
        "outputId": "cd01e69d-4ca1-40d4-8793-569b1e70a8d9"
      },
      "id": "A92JlyDyYixm",
      "execution_count": 2,
      "outputs": [
        {
          "output_type": "execute_result",
          "data": {
            "text/plain": [
              "2*x"
            ],
            "text/latex": "$\\displaystyle 2 x$"
          },
          "metadata": {},
          "execution_count": 2
        }
      ]
    },
    {
      "cell_type": "markdown",
      "source": [
        "**1. What do you think 'x + x' means?** (Answers below):"
      ],
      "metadata": {
        "id": "PX2gRq34YloO"
      },
      "id": "PX2gRq34YloO"
    },
    {
      "cell_type": "code",
      "source": [
        "#Ans: It adds 'x' to itself which doubles its value or simply 2x.\n",
        "\n",
        "from sympy import *\n",
        "x = symbols('x')\n",
        "x + x"
      ],
      "metadata": {
        "id": "xUgDI_ZjSoN5"
      },
      "id": "xUgDI_ZjSoN5",
      "execution_count": null,
      "outputs": []
    },
    {
      "cell_type": "markdown",
      "source": [
        "Now try this:"
      ],
      "metadata": {
        "id": "yVF3ZEOoYwZe"
      },
      "id": "yVF3ZEOoYwZe"
    },
    {
      "cell_type": "code",
      "source": [
        "x * x"
      ],
      "metadata": {
        "id": "bxUoWvBmYulL"
      },
      "id": "bxUoWvBmYulL",
      "execution_count": null,
      "outputs": []
    },
    {
      "cell_type": "markdown",
      "source": [
        "**2. What does `x * x` represent?** (Answers below):   "
      ],
      "metadata": {
        "id": "WTpPkyAlY1p1"
      },
      "id": "WTpPkyAlY1p1"
    },
    {
      "cell_type": "code",
      "source": [
        "#Ans: It multiplies 'x' by itself, which is the same as raising it to the power of 2, written as x^2 or x**2.\n",
        "\n",
        "from sympy import *\n",
        "x = symbols('x')\n",
        "x * x"
      ],
      "metadata": {
        "colab": {
          "base_uri": "https://localhost:8080/",
          "height": 38
        },
        "id": "4Y8BHKzeS1Dx",
        "outputId": "8278f40c-1014-4a93-88c0-5c3b2a922719"
      },
      "id": "4Y8BHKzeS1Dx",
      "execution_count": 3,
      "outputs": [
        {
          "output_type": "execute_result",
          "data": {
            "text/plain": [
              "x**2"
            ],
            "text/latex": "$\\displaystyle x^{2}$"
          },
          "metadata": {},
          "execution_count": 3
        }
      ]
    },
    {
      "cell_type": "markdown",
      "source": [
        "---\n",
        "## Exploring Limits\n",
        "\n",
        "Try this code:"
      ],
      "metadata": {
        "id": "QiSJjx_VHq1p"
      },
      "id": "QiSJjx_VHq1p"
    },
    {
      "cell_type": "code",
      "source": [
        "limit(sin(x)/x, x, 0)"
      ],
      "metadata": {
        "id": "7JRyFVohH7UO",
        "colab": {
          "base_uri": "https://localhost:8080/",
          "height": 37
        },
        "outputId": "ddc86241-2551-48ec-ffda-676c2c4346ff"
      },
      "id": "7JRyFVohH7UO",
      "execution_count": 4,
      "outputs": [
        {
          "output_type": "execute_result",
          "data": {
            "text/plain": [
              "1"
            ],
            "text/latex": "$\\displaystyle 1$"
          },
          "metadata": {},
          "execution_count": 4
        }
      ]
    },
    {
      "cell_type": "markdown",
      "source": [
        "**3. What result do you get? What do you think it means?** (Answers below)"
      ],
      "metadata": {
        "id": "ywTipXNaH5VC"
      },
      "id": "ywTipXNaH5VC"
    },
    {
      "cell_type": "code",
      "source": [
        "#Ans: The code above gives the answer '1'. This is because sin(x)/x is simply x/x which results to 1.\n",
        "#     However, there is a known limit when you plugin '0' to the expression, you get 0/0 in which therefore an indeterminate form.\n",
        "\n",
        "limit(sin(x)/x, x, 0)"
      ],
      "metadata": {
        "colab": {
          "base_uri": "https://localhost:8080/",
          "height": 37
        },
        "id": "987mJn7GTvF9",
        "outputId": "9bba25bd-b3be-4099-8031-7264133788df"
      },
      "id": "987mJn7GTvF9",
      "execution_count": 5,
      "outputs": [
        {
          "output_type": "execute_result",
          "data": {
            "text/plain": [
              "1"
            ],
            "text/latex": "$\\displaystyle 1$"
          },
          "metadata": {},
          "execution_count": 5
        }
      ]
    },
    {
      "cell_type": "markdown",
      "source": [
        "---\n",
        "## Playing with Derivatives\n",
        "\n",
        "Run this:"
      ],
      "metadata": {
        "id": "_0bSbQm5IPe3"
      },
      "id": "_0bSbQm5IPe3"
    },
    {
      "cell_type": "code",
      "source": [
        "diff(x**2, x)"
      ],
      "metadata": {
        "id": "ODeV9TfcISxy",
        "colab": {
          "base_uri": "https://localhost:8080/",
          "height": 38
        },
        "outputId": "789e8c70-68b0-4ae3-f0b3-e327336b8e3b"
      },
      "id": "ODeV9TfcISxy",
      "execution_count": 7,
      "outputs": [
        {
          "output_type": "execute_result",
          "data": {
            "text/plain": [
              "2*x"
            ],
            "text/latex": "$\\displaystyle 2 x$"
          },
          "metadata": {},
          "execution_count": 7
        }
      ]
    },
    {
      "cell_type": "markdown",
      "source": [
        "**4. What is the output? Can you describe what it tells you?** (Answers below)"
      ],
      "metadata": {
        "id": "zkB8nUcCIVWK"
      },
      "id": "zkB8nUcCIVWK"
    },
    {
      "cell_type": "code",
      "source": [
        "#Ans: The diff() function performs gets the derivative of an expression. The derivative of x^2 or x**2 is 2x and the code correctly gives the appropriate answer.\n",
        "#     The diff() takes two parameters diff(expression, variable). The diff() function still works even if the variable parameter is not stated, however, it is good practice to include.\n",
        "\n",
        "diff(x**2, x)"
      ],
      "metadata": {
        "colab": {
          "base_uri": "https://localhost:8080/",
          "height": 38
        },
        "id": "V1TTCNciVqed",
        "outputId": "6a1df489-2ca7-4eb3-8a39-d978f4068ca3"
      },
      "id": "V1TTCNciVqed",
      "execution_count": 8,
      "outputs": [
        {
          "output_type": "execute_result",
          "data": {
            "text/plain": [
              "2*x"
            ],
            "text/latex": "$\\displaystyle 2 x$"
          },
          "metadata": {},
          "execution_count": 8
        }
      ]
    },
    {
      "cell_type": "markdown",
      "source": [
        "---\n",
        "\n",
        "## 4. Series Expansion\n",
        "\n",
        "Run this code:"
      ],
      "metadata": {
        "id": "MuBEwsMjHvaE"
      },
      "id": "MuBEwsMjHvaE"
    },
    {
      "cell_type": "code",
      "source": [
        "exp(x).series(x, 0, 4)"
      ],
      "metadata": {
        "id": "cfjBnBRDI_zz",
        "colab": {
          "base_uri": "https://localhost:8080/",
          "height": 54
        },
        "outputId": "ffc06044-2719-4d59-c0eb-e921d71cdf73"
      },
      "id": "cfjBnBRDI_zz",
      "execution_count": 9,
      "outputs": [
        {
          "output_type": "execute_result",
          "data": {
            "text/plain": [
              "1 + x + x**2/2 + x**3/6 + O(x**4)"
            ],
            "text/latex": "$\\displaystyle 1 + x + \\frac{x^{2}}{2} + \\frac{x^{3}}{6} + O\\left(x^{4}\\right)$"
          },
          "metadata": {},
          "execution_count": 9
        }
      ]
    },
    {
      "cell_type": "markdown",
      "source": [
        "**5. What do you see? How many terms are shown in the result?**  (Answers below)"
      ],
      "metadata": {
        "id": "v_kHGdQlJDn0"
      },
      "id": "v_kHGdQlJDn0"
    },
    {
      "cell_type": "code",
      "source": [
        "#Ans: The series expansion series() is useful for approximating functions. In the code above, e^x or e**x is being evaluated, it is just written differently in the code.\n",
        "#     The code states to show 4 terms of the function. The O(x**4) means that the terms x**4 and above are small and less important,\n",
        "#     or in other words it marks where the approximation becomes negligible.\n",
        "\n",
        "exp(x).series(x, 0, 4)"
      ],
      "metadata": {
        "id": "2s3p92ShYEe4"
      },
      "id": "2s3p92ShYEe4",
      "execution_count": 11,
      "outputs": []
    },
    {
      "cell_type": "markdown",
      "source": [
        "---\n",
        "\n",
        "## 5. Solving Equations\n",
        "\n",
        "Try solving this equation:"
      ],
      "metadata": {
        "id": "o89x7hPEJSzC"
      },
      "id": "o89x7hPEJSzC"
    },
    {
      "cell_type": "code",
      "source": [
        "solve(Eq(x**2 - 4, 0), x)"
      ],
      "metadata": {
        "id": "nZRx2-FMJVU4",
        "colab": {
          "base_uri": "https://localhost:8080/"
        },
        "outputId": "94fc5452-5a23-48d7-fb92-258ea7cdd9c8"
      },
      "id": "nZRx2-FMJVU4",
      "execution_count": 12,
      "outputs": [
        {
          "output_type": "execute_result",
          "data": {
            "text/plain": [
              "[-2, 2]"
            ]
          },
          "metadata": {},
          "execution_count": 12
        }
      ]
    },
    {
      "cell_type": "markdown",
      "source": [
        "**6. What are the answers?** (Answer below)  "
      ],
      "metadata": {
        "id": "BpwkEmDWJZyS"
      },
      "id": "BpwkEmDWJZyS"
    },
    {
      "cell_type": "code",
      "source": [
        "#Ans: The answer for solving the equation above is [-2. 2]. It simply gets the value of x for the equation x**2 - 4 = 0.\n",
        "#     There are two possible values of x for that given equation that is why there are two answers -2 and 2.\n",
        "\n",
        "solve(Eq(x**2 - 4, 0), x)"
      ],
      "metadata": {
        "id": "ELZBYZ4RahP6"
      },
      "id": "ELZBYZ4RahP6",
      "execution_count": null,
      "outputs": []
    },
    {
      "cell_type": "markdown",
      "source": [
        "**7. What kind of problem do you think this is?** (Answer below)"
      ],
      "metadata": {
        "id": "27ZbZbLIJgzK"
      },
      "id": "27ZbZbLIJgzK"
    },
    {
      "cell_type": "code",
      "source": [
        "#Ans: This equation is a quadratic function, indicated by the exponent 2 from x**2 and 0 from the right hand of the equation.\n",
        "\n",
        "solve(Eq(x**2 - 4, 0), x)"
      ],
      "metadata": {
        "id": "2Sb5064abAHL"
      },
      "id": "2Sb5064abAHL",
      "execution_count": null,
      "outputs": []
    },
    {
      "cell_type": "markdown",
      "metadata": {
        "id": "OuURTQQuXTgj"
      },
      "source": [
        "---\n",
        "\n",
        "## 6. Final Thoughts\n",
        "\n",
        "**8. What was your favorite part of this activity?** (Answer below)\n",
        "\n"
      ],
      "id": "OuURTQQuXTgj"
    },
    {
      "cell_type": "code",
      "source": [
        "#Ans: I do not have a particular favorite question on the activity but I enjoyed having to research and relearn math again."
      ],
      "metadata": {
        "id": "Bzmob81tbmT_"
      },
      "id": "Bzmob81tbmT_",
      "execution_count": null,
      "outputs": []
    },
    {
      "cell_type": "markdown",
      "source": [
        "**9. What was something new or surprising you learned?**  (Answer below)"
      ],
      "metadata": {
        "id": "CkwbgwxSJu8g"
      },
      "id": "CkwbgwxSJu8g"
    },
    {
      "cell_type": "code",
      "source": [
        "#Ans: The series expansion was kind of intriguing for me, it was never taught in my entire school life and it was kind of hard to try and learn it on your own. Luckily, there is Youtube.\n",
        "#     Although, there were no problem solving involved in the Final Exam, it was fun to learn, review, and stress about math for one last time in this college life."
      ],
      "metadata": {
        "id": "XSz4qgjucDaw"
      },
      "id": "XSz4qgjucDaw",
      "execution_count": null,
      "outputs": []
    }
  ],
  "metadata": {
    "kernelspec": {
      "display_name": "Python 3",
      "language": "python",
      "name": "python3"
    },
    "language_info": {
      "codemirror_mode": {
        "name": "ipython",
        "version": 3
      },
      "file_extension": ".py",
      "mimetype": "text/x-python",
      "name": "python",
      "nbconvert_exporter": "python",
      "pygments_lexer": "ipython3",
      "version": "3.8.16"
    },
    "colab": {
      "provenance": []
    }
  },
  "nbformat": 4,
  "nbformat_minor": 5
}
