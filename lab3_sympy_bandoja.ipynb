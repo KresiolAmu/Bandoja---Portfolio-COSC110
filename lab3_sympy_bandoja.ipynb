{
  "nbformat": 4,
  "nbformat_minor": 0,
  "metadata": {
    "colab": {
      "provenance": []
    },
    "kernelspec": {
      "name": "python3",
      "display_name": "Python 3"
    },
    "language_info": {
      "name": "python"
    }
  },
  "cells": [
    {
      "cell_type": "markdown",
      "source": [
        "## Laboratory Activity #3: Introduction to SymPy\n",
        "\n",
        "###Objectives:\n",
        "- Apply basic symbolic calculations using SymPy"
      ],
      "metadata": {
        "id": "ry6k4qR8H7Bq"
      }
    },
    {
      "cell_type": "markdown",
      "source": [
        "#### Task # 1: Include all necessary sympy modules\n",
        "\n",
        "\n"
      ],
      "metadata": {
        "id": "G_Ua0LKbIPfK"
      }
    },
    {
      "cell_type": "code",
      "execution_count": null,
      "metadata": {
        "id": "DPFz-qLYHiFJ"
      },
      "outputs": [],
      "source": [
        "from sympy import symbols, Eq, expand\n",
        "x, y = symbols('x y')"
      ]
    },
    {
      "cell_type": "markdown",
      "source": [
        "#### Task # 2: Basic calculation\n",
        "Solve for the following:\n",
        "\n",
        "- $\\frac{5}{3} + \\frac{\\sqrt{10}}{2}$\n",
        "- $\\sqrt{50} \\times \\sqrt{\\frac{5}{9}}$"
      ],
      "metadata": {
        "id": "3i4pd__LIl1X"
      }
    },
    {
      "cell_type": "code",
      "source": [
        "#Ans: (10 + 3*sqrt(10))/6"
      ],
      "metadata": {
        "id": "Nk9U7XU8RhEH"
      },
      "execution_count": null,
      "outputs": []
    },
    {
      "cell_type": "code",
      "source": [
        "#Ans: 5*sqrt(10)/3"
      ],
      "metadata": {
        "id": "6baME6J6Rgru"
      },
      "execution_count": null,
      "outputs": []
    },
    {
      "cell_type": "markdown",
      "source": [
        "#### Task # 3: Symbols\n",
        "Create the equation for the following using `Symbols`:\n",
        "- $2x+3y=12$\n",
        "- $x−y=4$"
      ],
      "metadata": {
        "id": "UH2m4ur7NERn"
      }
    },
    {
      "cell_type": "code",
      "source": [
        "#Ans: Eq(2*x + 3*y, 12)\n",
        "from sympy import *\n",
        "x, y = symbols('x y')\n",
        "expr1 = Eq(2*x+3*y, 12)\n",
        "print(expr1)"
      ],
      "metadata": {
        "id": "4RUw45azRejM",
        "colab": {
          "base_uri": "https://localhost:8080/"
        },
        "outputId": "e0f0792e-d16a-4d05-e8d6-860b66db477a"
      },
      "execution_count": 6,
      "outputs": [
        {
          "output_type": "stream",
          "name": "stdout",
          "text": [
            "Eq(2*x + 3*y, 12)\n"
          ]
        }
      ]
    },
    {
      "cell_type": "code",
      "source": [
        "#Ans: Eq(x - y, 4)\n",
        "from sympy import *\n",
        "x, y = symbols('x y')\n",
        "expr2 = Eq(x-y, 4)\n",
        "print(expr2)"
      ],
      "metadata": {
        "id": "nKlN5AeURwI6",
        "colab": {
          "base_uri": "https://localhost:8080/"
        },
        "outputId": "89074148-3929-41a7-b2d3-eaa713d2e13a"
      },
      "execution_count": 5,
      "outputs": [
        {
          "output_type": "stream",
          "name": "stdout",
          "text": [
            "Eq(x - y, 4)\n"
          ]
        }
      ]
    },
    {
      "cell_type": "markdown",
      "source": [
        "#### Task # 3: Simplification\n",
        "Simplify the following equations using the `simplify` method\n",
        "\n",
        "- $\\frac{x^2 + 2x + 1}{x + 1}$\n",
        "\n",
        "- $\\frac{1 - \\frac{1}{1 + \\frac{1}{x}}}{1 + \\frac{1}{x}}\n",
        "$"
      ],
      "metadata": {
        "id": "IS8vTb7FPDbQ"
      }
    },
    {
      "cell_type": "code",
      "source": [
        "#Ans: x + 1\n",
        "from sympy import *\n",
        "x = symbols('x')\n",
        "expr3 = (x**2 + 2*x + 1)/(x + 1)\n",
        "simplified = simplify(expr3)\n",
        "print(simplified)"
      ],
      "metadata": {
        "id": "38CFQlfxR0TV",
        "colab": {
          "base_uri": "https://localhost:8080/"
        },
        "outputId": "c8944e94-b034-40e1-e156-01acf0f937ca"
      },
      "execution_count": 4,
      "outputs": [
        {
          "output_type": "stream",
          "name": "stdout",
          "text": [
            "x + 1\n"
          ]
        }
      ]
    },
    {
      "cell_type": "code",
      "source": [
        "#Ans: x/(x + 1)**2\n",
        "from sympy import *\n",
        "x = symbols('x')\n",
        "expr4 = (1 - (1 / (1 + 1/x))) / (1 + 1/x)\n",
        "simplified = simplify(expr4)\n",
        "print(simplified)"
      ],
      "metadata": {
        "id": "fSi0XQcWR2uo",
        "colab": {
          "base_uri": "https://localhost:8080/"
        },
        "outputId": "b68efd8e-22be-4060-8e00-3bbef8e860c9"
      },
      "execution_count": 3,
      "outputs": [
        {
          "output_type": "stream",
          "name": "stdout",
          "text": [
            "x/(x + 1)**2\n"
          ]
        }
      ]
    },
    {
      "cell_type": "markdown",
      "source": [
        "### Task # 4: Expansion\n",
        "Expand the following expressions using the `expand` method\n",
        "- $(2x + 2)^2$\n",
        "- $(2x + y)(x - 2y)$\n"
      ],
      "metadata": {
        "id": "oXI_LJ-hRR_n"
      }
    },
    {
      "cell_type": "code",
      "source": [
        "#Ans: 4*x**2 + 8*x + 4\n",
        "from sympy import *\n",
        "x = symbols('x')\n",
        "expr5 = (2*x+2)**2\n",
        "expanded = expand(expr5)\n",
        "print(expanded)"
      ],
      "metadata": {
        "id": "OwjWp39uS0Jb",
        "colab": {
          "base_uri": "https://localhost:8080/"
        },
        "outputId": "0ddea45c-d3e8-4ade-819b-5702fec9baa6"
      },
      "execution_count": 2,
      "outputs": [
        {
          "output_type": "stream",
          "name": "stdout",
          "text": [
            "4*x**2 + 8*x + 4\n"
          ]
        }
      ]
    },
    {
      "cell_type": "code",
      "source": [
        "#Ans: 2*x**2 - 3*x*y - 2*y**2\n",
        "from sympy import *\n",
        "x, y = symbols('x y')\n",
        "expr6 = (2*x+y)*(x-2*y)\n",
        "expanded = expand(expr6)\n",
        "print(expanded)"
      ],
      "metadata": {
        "id": "g-QEmoMCS6TH",
        "colab": {
          "base_uri": "https://localhost:8080/"
        },
        "outputId": "4c23eabb-aabf-49aa-edb8-c8318aaeffc2"
      },
      "execution_count": 1,
      "outputs": [
        {
          "output_type": "stream",
          "name": "stdout",
          "text": [
            "2*x**2 - 3*x*y - 2*y**2\n"
          ]
        }
      ]
    }
  ]
}